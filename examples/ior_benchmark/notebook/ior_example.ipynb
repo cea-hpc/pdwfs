{
 "cells": [
  {
   "cell_type": "markdown",
   "metadata": {},
   "source": [
    "# IOR benchmark with pdwfs\n",
    "\n",
    "https://ior.readthedocs.io/en/latest/userDoc/tutorial.html#getting-started-with-ior"
   ]
  },
  {
   "cell_type": "markdown",
   "metadata": {},
   "source": [
    "## Benchmark script template"
   ]
  },
  {
   "cell_type": "code",
   "execution_count": null,
   "metadata": {},
   "outputs": [],
   "source": [
    "%%bash\n",
    "cat ior_script.jinja2"
   ]
  },
  {
   "cell_type": "markdown",
   "metadata": {},
   "source": [
    "![IOR](https://ior.readthedocs.io/en/latest/_images/tutorial-ior-io-pattern.png)"
   ]
  },
  {
   "cell_type": "markdown",
   "metadata": {},
   "source": [
    "## Benchmark script builder"
   ]
  },
  {
   "cell_type": "code",
   "execution_count": null,
   "metadata": {},
   "outputs": [],
   "source": [
    "import itertools as it\n",
    "from collections import namedtuple\n",
    "from jinja2 import Template\n",
    "\n",
    "IORCase = namedtuple(\"IORCase\", [\"numTasks\", \"filePerProc\", \"collective\", \"segmentCount\", \"transferSize\"])\n",
    "\n",
    "def make_ior_script(api, numTasks, filePerProc, collective, segmentCount, transferSize, read):\n",
    "    matrix = list(it.product(numTasks, filePerProc, collective, segmentCount, transferSize))\n",
    "    cases = [IORCase(*case) for case in matrix]\n",
    "\n",
    "    with open(\"ior_script.jinja2\", \"r\") as f:\n",
    "        template = Template(f.read())\n",
    "\n",
    "    with open(\"ior_script\", \"w\") as f:\n",
    "        f.write(template.render(api=api, cases=cases, read=read))"
   ]
  },
  {
   "cell_type": "markdown",
   "metadata": {},
   "source": [
    "## Results parser (Pandas dataframe)"
   ]
  },
  {
   "cell_type": "code",
   "execution_count": null,
   "metadata": {},
   "outputs": [],
   "source": [
    "def parse_ior_results(filename):\n",
    "    \"\"\"\n",
    "    Parse IOR results in file given by filename and return a Pandas dataframe\n",
    "    \"\"\"\n",
    "    import re\n",
    "    import pandas\n",
    "\n",
    "    start_line = None\n",
    "    end_line = None\n",
    "    with open(filename,'r') as f: \n",
    "        for i, line in enumerate(f.readlines()):\n",
    "            if re.search(\"Summary of all tests:\", line):\n",
    "                 start_line = i + 1\n",
    "            if re.search(\"Finished\", line):\n",
    "                end_line = i - 1\n",
    "\n",
    "    return pandas.read_csv(filename, sep='\\s+', skiprows=start_line, nrows=end_line-start_line)"
   ]
  },
  {
   "cell_type": "markdown",
   "metadata": {},
   "source": [
    "## Benchmark"
   ]
  },
  {
   "cell_type": "markdown",
   "metadata": {},
   "source": [
    "### Build IOR script"
   ]
  },
  {
   "cell_type": "code",
   "execution_count": null,
   "metadata": {},
   "outputs": [],
   "source": [
    "# Global parameters\n",
    "api = \"MPIIO\"  # possible values: POSIX, MPIIO, HDF5 \n",
    "read = \"0\"     # 1: perform read benchmark\n",
    "\n",
    "# Case parameters\n",
    "numTasks=[\"2\"]\n",
    "filePerProc=[\"0\"]\n",
    "collective=[\"1\"]\n",
    "segmentCount=[\"1\"]\n",
    "transferSize = [\"512k\", \"1m\", \"3m\", \"5m\", \"7m\", \"10m\",\"25m\",\"35m\", \"50m\",\"60m\",\"75m\",\"85m\", \"100m\",\"115m\",\"125m\",\"150m\",\"175m\",\"200m\", \"225m\", \"250m\"]\n",
    "\n",
    "make_ior_script(api, numTasks, filePerProc, collective, segmentCount, transferSize, read)\n",
    "#%cat ior_script"
   ]
  },
  {
   "cell_type": "markdown",
   "metadata": {},
   "source": [
    "### Run on disk"
   ]
  },
  {
   "cell_type": "code",
   "execution_count": null,
   "metadata": {},
   "outputs": [],
   "source": [
    "%%bash \n",
    "cd run\n",
    "mpirun ior -f ../ior_script > ior_results_disk.out\n",
    "# %cat ior_results_disk.out"
   ]
  },
  {
   "cell_type": "markdown",
   "metadata": {},
   "source": [
    "### Run with pdwfs"
   ]
  },
  {
   "cell_type": "code",
   "execution_count": null,
   "metadata": {},
   "outputs": [],
   "source": [
    "%%bash\n",
    "cd run\n",
    "pdwfs-redis restart &> /dev/null\n",
    "pdwfs -p . -- mpirun ior -f ../ior_script > ior_results_pdwfs.out\n",
    "# %cat ior_results_pdwfs.out"
   ]
  },
  {
   "cell_type": "markdown",
   "metadata": {},
   "source": [
    "### Parse results"
   ]
  },
  {
   "cell_type": "code",
   "execution_count": null,
   "metadata": {},
   "outputs": [],
   "source": [
    "df_disk = parse_ior_results(\"run/ior_results_disk.out\")\n",
    "#df_disk"
   ]
  },
  {
   "cell_type": "code",
   "execution_count": null,
   "metadata": {},
   "outputs": [],
   "source": [
    "df_pdwfs = parse_ior_results(\"run/ior_results_pdwfs.out\")\n",
    "#df_pdwfs"
   ]
  },
  {
   "cell_type": "markdown",
   "metadata": {},
   "source": [
    "### Plot results"
   ]
  },
  {
   "cell_type": "code",
   "execution_count": null,
   "metadata": {},
   "outputs": [],
   "source": [
    "import matplotlib.pyplot as plt\n",
    "import matplotlib.dates as mdates\n",
    "%matplotlib inline\n",
    "\n",
    "plt.xlabel(\"Transfer Size (MiB)\")\n",
    "plt.ylabel(\"MiB/s\")\n",
    "plt.title(\"IOR Results\")\n",
    "\n",
    "fig = plt.gcf()\n",
    "fig.set_size_inches(16, 6.5)\n",
    "\n",
    "plt.plot(df_disk[\"xsize\"] / 1.e6, df_disk[\"Max(MiB)\"],'-o',label=\"disk\")\n",
    "plt.plot(df_pdwfs[\"xsize\"] / 1.e6, df_pdwfs[\"Max(MiB)\"],'-o',label=\"pdwfs\")\n",
    "\n",
    "plt.legend([\"disk\",\"pdwfs\"],loc=\"upper right\")"
   ]
  },
  {
   "cell_type": "markdown",
   "metadata": {},
   "source": [
    "## Example with multipe Redis instances"
   ]
  },
  {
   "cell_type": "code",
   "execution_count": null,
   "metadata": {},
   "outputs": [],
   "source": [
    "%%bash\n",
    "cd run\n",
    "redis-cli -p 6379 shutdown 2> /dev/null\n",
    "redis-cli -p 6380 shutdown 2> /dev/null\n",
    "redis-cli -p 6381 shutdown 2> /dev/null\n",
    "redis-server --daemonize yes --save \"\" --port 6379\n",
    "redis-server --daemonize yes --save \"\" --port 6380\n",
    "redis-server --daemonize yes --save \"\" --port 6381\n",
    "export PDWFS_REDIS=\":6379,:6380,:6381\"\n",
    "pdwfs -p . -- mpirun ior -a MPIIO -t 250m -b 250m -w"
   ]
  }
 ],
 "metadata": {
  "kernelspec": {
   "display_name": "Python 2",
   "language": "python",
   "name": "python2"
  },
  "language_info": {
   "codemirror_mode": {
    "name": "ipython",
    "version": 2
   },
   "file_extension": ".py",
   "mimetype": "text/x-python",
   "name": "python",
   "nbconvert_exporter": "python",
   "pygments_lexer": "ipython2",
   "version": "2.7.5"
  }
 },
 "nbformat": 4,
 "nbformat_minor": 1
}
