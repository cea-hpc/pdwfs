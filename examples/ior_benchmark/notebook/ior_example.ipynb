{
 "cells": [
  {
   "cell_type": "markdown",
   "metadata": {},
   "source": [
    "# IOR benchmark with pdwfs\n",
    "\n",
    "https://ior.readthedocs.io/en/latest/userDoc/tutorial.html#getting-started-with-ior"
   ]
  },
  {
   "cell_type": "markdown",
   "metadata": {},
   "source": [
    "## Benchmark script template"
   ]
  },
  {
   "cell_type": "code",
   "execution_count": null,
   "metadata": {},
   "outputs": [],
   "source": [
    "%%bash\n",
    "cat ior_script.jinja2"
   ]
  },
  {
   "cell_type": "markdown",
   "metadata": {},
   "source": [
    "![IOR](https://ior.readthedocs.io/en/latest/_images/tutorial-ior-io-pattern.png)"
   ]
  },
  {
   "cell_type": "markdown",
   "metadata": {},
   "source": [
    "## Load utility functions\n",
    "Execute the cell below twice, one to load the python script into the cell, second to execute the cell."
   ]
  },
  {
   "cell_type": "code",
   "execution_count": null,
   "metadata": {},
   "outputs": [],
   "source": [
    "%load utils.py"
   ]
  },
  {
   "cell_type": "markdown",
   "metadata": {},
   "source": [
    "## Benchmark"
   ]
  },
  {
   "cell_type": "markdown",
   "metadata": {},
   "source": [
    "### Build IOR script"
   ]
  },
  {
   "cell_type": "code",
   "execution_count": null,
   "metadata": {},
   "outputs": [],
   "source": [
    "# Parameters\n",
    "api = \"MPIIO\"     # possible values: POSIX, MPIIO, HDF5 \n",
    "read = \"0\"        # 1: perform read benchmark\n",
    "numTasks=\"2\"      # number of parallel processes\n",
    "filePerProc=\"0\"   # 1: write one file per processes\n",
    "collective=\"1\"    # 1: enable collective IO operations (MPIIO, HDF5 only)\n",
    "segmentCount=\"1\"  # see previous schematic\n",
    "\n",
    "transferSize = [\"512k\", \"1m\", \"3m\", \"5m\", \"7m\", \"10m\",\"25m\",\"35m\", \"50m\",\"60m\",\"75m\",\"85m\", \"100m\",\"115m\",\"125m\",\"150m\",\"175m\",\"200m\", \"225m\", \"250m\"]\n",
    "\n",
    "build_ior_script(api, read, numTasks, filePerProc, collective, segmentCount, transferSize)\n",
    "#%cat ior_script"
   ]
  },
  {
   "cell_type": "markdown",
   "metadata": {},
   "source": [
    "### Run on disk"
   ]
  },
  {
   "cell_type": "code",
   "execution_count": null,
   "metadata": {},
   "outputs": [],
   "source": [
    "%%bash \n",
    "cd run\n",
    "mpirun ior -f ../ior_script > ior_results_disk.out\n",
    "# %cat ior_results_disk.out"
   ]
  },
  {
   "cell_type": "markdown",
   "metadata": {},
   "source": [
    "### Run with pdwfs"
   ]
  },
  {
   "cell_type": "code",
   "execution_count": null,
   "metadata": {},
   "outputs": [],
   "source": [
    "%%bash\n",
    "cd run\n",
    "\n",
    "# start a new Redis instance in the background\n",
    "redis-cli shutdown 2> /dev/null\n",
    "redis-server --daemonize yes --save \"\" > /dev/null\n",
    "\n",
    "# wrap the previous command with pdwfs -p . (indicating the current directory as the intercepted directory)\n",
    "pdwfs -p . -- mpirun ior -f ../ior_script > ior_results_pdwfs.out"
   ]
  },
  {
   "cell_type": "markdown",
   "metadata": {},
   "source": [
    "### Parse results"
   ]
  },
  {
   "cell_type": "code",
   "execution_count": null,
   "metadata": {},
   "outputs": [],
   "source": [
    "df_disk = parse_ior_results(\"run/ior_results_disk.out\")\n",
    "#df_disk"
   ]
  },
  {
   "cell_type": "code",
   "execution_count": null,
   "metadata": {},
   "outputs": [],
   "source": [
    "df_pdwfs = parse_ior_results(\"run/ior_results_pdwfs.out\")\n",
    "#df_pdwfs"
   ]
  },
  {
   "cell_type": "markdown",
   "metadata": {},
   "source": [
    "### Plot results"
   ]
  },
  {
   "cell_type": "code",
   "execution_count": null,
   "metadata": {},
   "outputs": [],
   "source": [
    "%matplotlib inline\n",
    "plot_results(df_disk, df_pdwfs, title=\"MPI-IO with collective operations\")"
   ]
  },
  {
   "cell_type": "markdown",
   "metadata": {},
   "source": [
    "## Example with multipe Redis instances"
   ]
  },
  {
   "cell_type": "code",
   "execution_count": null,
   "metadata": {},
   "outputs": [],
   "source": [
    "%%bash\n",
    "cd run\n",
    "redis-cli -p 6379 shutdown 2> /dev/null\n",
    "redis-cli -p 6380 shutdown 2> /dev/null\n",
    "redis-cli -p 6381 shutdown 2> /dev/null\n",
    "redis-server --daemonize yes --save \"\" --port 6379\n",
    "redis-server --daemonize yes --save \"\" --port 6380\n",
    "redis-server --daemonize yes --save \"\" --port 6381\n",
    "export PDWFS_REDIS=\":6379,:6380,:6381\"\n",
    "pdwfs -p . -- mpirun ior -a MPIIO -t 250m -b 250m -w"
   ]
  },
  {
   "cell_type": "code",
   "execution_count": null,
   "metadata": {},
   "outputs": [],
   "source": []
  }
 ],
 "metadata": {
  "kernelspec": {
   "display_name": "Python 2",
   "language": "python",
   "name": "python2"
  },
  "language_info": {
   "codemirror_mode": {
    "name": "ipython",
    "version": 2
   },
   "file_extension": ".py",
   "mimetype": "text/x-python",
   "name": "python",
   "nbconvert_exporter": "python",
   "pygments_lexer": "ipython2",
   "version": "2.7.5"
  }
 },
 "nbformat": 4,
 "nbformat_minor": 1
}
