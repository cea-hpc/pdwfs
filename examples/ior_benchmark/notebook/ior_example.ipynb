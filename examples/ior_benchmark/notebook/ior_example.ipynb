{
 "cells": [
  {
   "cell_type": "markdown",
   "metadata": {},
   "source": [
    "# IOR benchmark with pdwfs\n",
    "\n",
    "https://ior.readthedocs.io/en/latest/userDoc/tutorial.html#getting-started-with-ior"
   ]
  },
  {
   "cell_type": "markdown",
   "metadata": {},
   "source": [
    "## Benchmark script template"
   ]
  },
  {
   "cell_type": "code",
   "execution_count": 13,
   "metadata": {},
   "outputs": [
    {
     "name": "stdout",
     "output_type": "stream",
     "text": [
      "IOR START\n",
      "  api={{ api }}\n",
      "  verbose=0\n",
      "  testFile=testFile\n",
      "  writeFile=1\n",
      "  readFile={{ read }}\n",
      "{% for case in cases %}\n",
      "RUN\n",
      "  numTasks={{ case.numTasks }}\n",
      "  filePerProc={{ case.filePerProc }}\n",
      "  collective={{ case.collective }}\n",
      "  segmentCount={{ case.segmentCount }}\n",
      "  blockSize={{ case.transferSize }}\n",
      "  transferSize={{ case.transferSize }}\n",
      "{% endfor %}\n",
      "IOR STOP"
     ]
    }
   ],
   "source": [
    "%%bash\n",
    "cat ior_script.jinja2"
   ]
  },
  {
   "cell_type": "markdown",
   "metadata": {},
   "source": [
    "![IOR](https://ior.readthedocs.io/en/latest/_images/tutorial-ior-io-pattern.png)"
   ]
  },
  {
   "cell_type": "markdown",
   "metadata": {},
   "source": [
    "## Benchmark script builder"
   ]
  },
  {
   "cell_type": "code",
   "execution_count": 14,
   "metadata": {},
   "outputs": [],
   "source": [
    "import itertools as it\n",
    "from collections import namedtuple\n",
    "from jinja2 import Template\n",
    "\n",
    "IORCase = namedtuple(\"IORCase\", [\"numTasks\", \"filePerProc\", \"collective\", \"segmentCount\", \"transferSize\"])\n",
    "\n",
    "def make_ior_script(api, numTasks, filePerProc, collective, segmentCount, transferSize, read):\n",
    "    matrix = list(it.product(numTasks, filePerProc, collective, segmentCount, transferSize))\n",
    "    cases = [IORCase(*case) for case in matrix]\n",
    "\n",
    "    with open(\"ior_script.jinja2\", \"r\") as f:\n",
    "        template = Template(f.read())\n",
    "\n",
    "    with open(\"ior_script\", \"w\") as f:\n",
    "        f.write(template.render(api=api, cases=cases, read=read))"
   ]
  },
  {
   "cell_type": "markdown",
   "metadata": {},
   "source": [
    "## Results parser (Pandas dataframe)"
   ]
  },
  {
   "cell_type": "code",
   "execution_count": 15,
   "metadata": {},
   "outputs": [],
   "source": [
    "def parse_ior_results(filename):\n",
    "    \"\"\"\n",
    "    Parse IOR results in file given by filename and return a Pandas dataframe\n",
    "    \"\"\"\n",
    "    import re\n",
    "    import pandas\n",
    "\n",
    "    start_line = None\n",
    "    end_line = None\n",
    "    with open(filename,'r') as f: \n",
    "        for i, line in enumerate(f.readlines()):\n",
    "            if re.search(\"Summary of all tests:\", line):\n",
    "                 start_line = i + 1\n",
    "            if re.search(\"Finished\", line):\n",
    "                end_line = i - 1\n",
    "\n",
    "    return pandas.read_csv(filename, sep='\\s+', skiprows=start_line, nrows=end_line-start_line)"
   ]
  },
  {
   "cell_type": "markdown",
   "metadata": {},
   "source": [
    "## Benchmark"
   ]
  },
  {
   "cell_type": "markdown",
   "metadata": {},
   "source": [
    "### Build IOR script"
   ]
  },
  {
   "cell_type": "code",
   "execution_count": 36,
   "metadata": {},
   "outputs": [],
   "source": [
    "# Global parameters\n",
    "api = \"POSIX\"  # possible values: POSIX, MPIIO, HDF5 \n",
    "read = \"0\"\n",
    "\n",
    "# Case parameters\n",
    "numTasks=[\"2\"]\n",
    "filePerProc=[\"0\"]\n",
    "collective=[\"1\"]\n",
    "segmentCount=[\"1\"]\n",
    "transferSize = [\"512k\", \"1m\", \"5m\", \"10m\", \"50m\", \"100m\", \"250m\"]\n",
    "\n",
    "make_ior_script(api, numTasks, filePerProc, collective, segmentCount, transferSize, read)\n",
    "#%cat ior_script"
   ]
  },
  {
   "cell_type": "markdown",
   "metadata": {},
   "source": [
    "### Run on disk"
   ]
  },
  {
   "cell_type": "code",
   "execution_count": 37,
   "metadata": {},
   "outputs": [],
   "source": [
    "%%bash \n",
    "cd run\n",
    "mpirun ior -f ../ior_script > ior_results_disk.out\n",
    "# %cat ior_results_disk.out"
   ]
  },
  {
   "cell_type": "markdown",
   "metadata": {},
   "source": [
    "### Run with pdwfs"
   ]
  },
  {
   "cell_type": "code",
   "execution_count": 54,
   "metadata": {},
   "outputs": [],
   "source": [
    "%%bash\n",
    "cd run\n",
    "pdwfs-redis restart &> /dev/null\n",
    "pdwfs -p . -- mpirun ior -f ../ior_script > ior_results_pdwfs.out\n",
    "# %cat ior_results_pdwfs.out"
   ]
  },
  {
   "cell_type": "markdown",
   "metadata": {},
   "source": [
    "### Parse results"
   ]
  },
  {
   "cell_type": "code",
   "execution_count": 55,
   "metadata": {},
   "outputs": [],
   "source": [
    "df_disk = parse_ior_results(\"run/ior_results_disk.out\")\n",
    "#df_disk"
   ]
  },
  {
   "cell_type": "code",
   "execution_count": 56,
   "metadata": {},
   "outputs": [],
   "source": [
    "df_pdwfs = parse_ior_results(\"run/ior_results_pdwfs.out\")\n",
    "#df_pdwfs"
   ]
  },
  {
   "cell_type": "markdown",
   "metadata": {},
   "source": [
    "### Plot results"
   ]
  },
  {
   "cell_type": "code",
   "execution_count": 57,
   "metadata": {},
   "outputs": [
    {
     "data": {
      "text/plain": [
       "<matplotlib.legend.Legend at 0x7f8c25126990>"
      ]
     },
     "execution_count": 57,
     "metadata": {},
     "output_type": "execute_result"
    },
    {
     "data": {
      "image/png": "[encoded data removed]",
      "text/plain": [
       "<Figure size 1152x468 with 1 Axes>"
      ]
     },
     "metadata": {
      "needs_background": "light"
     },
     "output_type": "display_data"
    }
   ],
   "source": [
    "import matplotlib.pyplot as plt\n",
    "import matplotlib.dates as mdates\n",
    "%matplotlib inline\n",
    "\n",
    "plt.xlabel(\"Transfer Size (MiB)\")\n",
    "plt.ylabel(\"MiB/s\")\n",
    "plt.title(\"IOR Results\")\n",
    "\n",
    "fig = plt.gcf()\n",
    "fig.set_size_inches(16, 6.5)\n",
    "\n",
    "plt.plot(df_disk[\"xsize\"] / 1.e6, df_disk[\"Max(MiB)\"],'-o',label=\"disk\")\n",
    "plt.plot(df_pdwfs[\"xsize\"] / 1.e6, df_pdwfs[\"Max(MiB)\"],'-o',label=\"pdwfs\")\n",
    "\n",
    "plt.legend([\"disk\",\"pdwfs\"],loc=\"upper right\")"
   ]
  },
  {
   "cell_type": "markdown",
   "metadata": {},
   "source": [
    "## Example with multipe Redis instances"
   ]
  },
  {
   "cell_type": "code",
   "execution_count": 22,
   "metadata": {},
   "outputs": [
    {
     "name": "stdout",
     "output_type": "stream",
     "text": [
      "128:C 22 Mar 2019 14:24:06.966 # oO0OoO0OoO0Oo Redis is starting oO0OoO0OoO0Oo\n",
      "128:C 22 Mar 2019 14:24:06.967 # Redis version=5.0.3, bits=64, commit=00000000, modified=0, pid=128, just started\n",
      "128:C 22 Mar 2019 14:24:06.967 # Configuration loaded\n",
      "130:C 22 Mar 2019 14:24:06.969 # oO0OoO0OoO0Oo Redis is starting oO0OoO0OoO0Oo\n",
      "130:C 22 Mar 2019 14:24:06.969 # Redis version=5.0.3, bits=64, commit=00000000, modified=0, pid=130, just started\n",
      "130:C 22 Mar 2019 14:24:06.969 # Configuration loaded\n",
      "135:C 22 Mar 2019 14:24:06.972 # oO0OoO0OoO0Oo Redis is starting oO0OoO0OoO0Oo\n",
      "135:C 22 Mar 2019 14:24:06.972 # Redis version=5.0.3, bits=64, commit=00000000, modified=0, pid=135, just started\n",
      "135:C 22 Mar 2019 14:24:06.972 # Configuration loaded\n",
      "BlockSize:  262144000\n",
      "BlockSize:  262144000\n",
      "BlockSize:  262144000\n",
      "IOR-3.2.0: MPI Coordinated Test of Parallel I/O\n",
      "Began               : Fri Mar 22 14:24:07 2019\n",
      "Command line        : ior -a MPIIO -t 250m -b 250m\n",
      "Machine             : Linux ff981a9089a8\n",
      "TestID              : 0\n",
      "StartTime           : Fri Mar 22 14:24:07 2019\n",
      "Path                : /home/luke/run\n",
      "FS                  : 0.0 GiB   Used FS: 0.0%   Inodes: 0.0 Mi   Used Inodes: 0.0%\n",
      "\n",
      "Options: \n",
      "api                 : MPIIO\n",
      "apiVersion          : (3.1)\n",
      "test filename       : testFile\n",
      "access              : single-shared-file\n",
      "type                : independent\n",
      "segments            : 1\n",
      "ordering in a file  : sequential\n",
      "ordering inter file : no tasks offsets\n",
      "tasks               : 2\n",
      "clients per node    : 2\n",
      "repetitions         : 1\n",
      "xfersize            : 250 MiB\n",
      "blocksize           : 250 MiB\n",
      "aggregate filesize  : 500 MiB\n",
      "\n",
      "Results: \n",
      "\n",
      "access    bw(MiB/s)  block(KiB) xfer(KiB)  open(s)    wr/rd(s)   close(s)   total(s)   iter\n",
      "------    ---------  ---------- ---------  --------   --------   --------   --------   ----\n",
      "write     353.08     256000     256000     0.019253   1.40       0.066392   1.42       0   \n",
      "read      56.10      256000     256000     0.001259   8.88       1.11       8.91       0   \n",
      "remove    -          -          -          -          -          -          0.128553   0   \n",
      "Max Write: 353.08 MiB/sec (370.23 MB/sec)\n",
      "Max Read:  56.10 MiB/sec (58.82 MB/sec)\n",
      "\n",
      "Summary of all tests:\n",
      "Operation   Max(MiB)   Min(MiB)  Mean(MiB)     StdDev   Max(OPs)   Min(OPs)  Mean(OPs)     StdDev    Mean(s) Test# #Tasks tPN reps fPP reord reordoff reordrand seed segcnt   blksiz    xsize aggs(MiB)   API RefNum\n",
      "write         353.08     353.08     353.08       0.00       1.41       1.41       1.41       0.00    1.41610     0      2   2    1   0     0        1         0    0      1 262144000 262144000     500.0 MPIIO      0\n",
      "read           56.10      56.10      56.10       0.00       0.22       0.22       0.22       0.00    8.91322     0      2   2    1   0     0        1         0    0      1 262144000 262144000     500.0 MPIIO      0\n",
      "Finished            : Fri Mar 22 14:24:17 2019\n"
     ]
    }
   ],
   "source": [
    "%%bash\n",
    "cd run\n",
    "redis-cli -p 6379 shutdown 2> /dev/null\n",
    "redis-cli -p 6380 shutdown 2> /dev/null\n",
    "redis-cli -p 6381 shutdown 2> /dev/null\n",
    "redis-server --daemonize yes --save \"\" --port 6379\n",
    "redis-server --daemonize yes --save \"\" --port 6380\n",
    "redis-server --daemonize yes --save \"\" --port 6381\n",
    "export PDWFS_REDIS=\":6379,:6380,:6381\"\n",
    "export PDWFS_BLOCKSIZE=\"250\"\n",
    "pdwfs -p . -- mpirun ior -a MPIIO -t 250m -b 250m"
   ]
  },
  {
   "cell_type": "code",
   "execution_count": null,
   "metadata": {},
   "outputs": [],
   "source": []
  }
 ],
 "metadata": {
  "kernelspec": {
   "display_name": "Python 2",
   "language": "python",
   "name": "python2"
  },
  "language_info": {
   "codemirror_mode": {
    "name": "ipython",
    "version": 2
   },
   "file_extension": ".py",
   "mimetype": "text/x-python",
   "name": "python",
   "nbconvert_exporter": "python",
   "pygments_lexer": "ipython2",
   "version": "2.7.5"
  }
 },
 "nbformat": 4,
 "nbformat_minor": 1
}
